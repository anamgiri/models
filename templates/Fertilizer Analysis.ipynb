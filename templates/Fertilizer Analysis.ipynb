{
 "cells": [
  {
   "cell_type": "code",
   "execution_count": 3,
   "id": "b85051f5-6000-454a-8e9e-c1704c1d59ad",
   "metadata": {},
   "outputs": [
    {
     "ename": "SyntaxError",
     "evalue": "invalid syntax (3863479364.py, line 1)",
     "output_type": "error",
     "traceback": [
      "\u001b[0;36m  Cell \u001b[0;32mIn[3], line 1\u001b[0;36m\u001b[0m\n\u001b[0;31m    pip install numpy pandas matplotlib seaborn\u001b[0m\n\u001b[0m        ^\u001b[0m\n\u001b[0;31mSyntaxError\u001b[0m\u001b[0;31m:\u001b[0m invalid syntax\n"
     ]
    }
   ],
   "source": [
    "pip install numpy pandas matplotlib seaborn\n",
    "\n"
   ]
  },
  {
   "cell_type": "code",
   "execution_count": 1,
   "id": "11af3159-6509-400d-bb40-9b9b5880bd20",
   "metadata": {},
   "outputs": [
    {
     "ename": "ModuleNotFoundError",
     "evalue": "No module named 'matplotlib'",
     "output_type": "error",
     "traceback": [
      "\u001b[0;31m---------------------------------------------------------------------------\u001b[0m",
      "\u001b[0;31mModuleNotFoundError\u001b[0m                       Traceback (most recent call last)",
      "Cell \u001b[0;32mIn[1], line 3\u001b[0m\n\u001b[1;32m      1\u001b[0m \u001b[38;5;28;01mimport\u001b[39;00m \u001b[38;5;21;01mnumpy\u001b[39;00m \u001b[38;5;28;01mas\u001b[39;00m \u001b[38;5;21;01mnp\u001b[39;00m \u001b[38;5;66;03m#for mathematical calculations\u001b[39;00m\n\u001b[1;32m      2\u001b[0m \u001b[38;5;28;01mimport\u001b[39;00m \u001b[38;5;21;01mpandas\u001b[39;00m \u001b[38;5;28;01mas\u001b[39;00m \u001b[38;5;21;01mpd\u001b[39;00m \u001b[38;5;66;03m#to manipulate data\u001b[39;00m\n\u001b[0;32m----> 3\u001b[0m \u001b[38;5;28;01mimport\u001b[39;00m \u001b[38;5;21;01mmatplotlib\u001b[39;00m\u001b[38;5;21;01m.\u001b[39;00m\u001b[38;5;21;01mpyplot\u001b[39;00m \u001b[38;5;28;01mas\u001b[39;00m \u001b[38;5;21;01mplt\u001b[39;00m \u001b[38;5;66;03m#graph aka data visualization\u001b[39;00m\n\u001b[1;32m      4\u001b[0m get_ipython()\u001b[38;5;241m.\u001b[39mrun_line_magic(\u001b[38;5;124m'\u001b[39m\u001b[38;5;124mmatplotlib\u001b[39m\u001b[38;5;124m'\u001b[39m, \u001b[38;5;124m'\u001b[39m\u001b[38;5;124minline\u001b[39m\u001b[38;5;124m'\u001b[39m)\n\u001b[1;32m      5\u001b[0m \u001b[38;5;28;01mimport\u001b[39;00m \u001b[38;5;21;01mseaborn\u001b[39;00m \u001b[38;5;28;01mas\u001b[39;00m \u001b[38;5;21;01msns\u001b[39;00m\n",
      "\u001b[0;31mModuleNotFoundError\u001b[0m: No module named 'matplotlib'"
     ]
    }
   ],
   "source": [
    "import numpy as np #for mathematical calculations\n",
    "import pandas as pd #to manipulate data\n",
    "import matplotlib.pyplot as plt #graph aka data visualization\n",
    "%matplotlib inline\n",
    "import seaborn as sns"
   ]
  },
  {
   "cell_type": "code",
   "execution_count": null,
   "id": "6a54ce07",
   "metadata": {},
   "outputs": [],
   "source": [
    "#Reading the data file\n",
    "df = pd.read_csv(\"Fertilizer Prediction.csv\")"
   ]
  },
  {
   "cell_type": "code",
   "execution_count": null,
   "id": "82d4e192",
   "metadata": {},
   "outputs": [],
   "source": [
    "#overview of the dataset\n",
    "df.head()"
   ]
  },
  {
   "cell_type": "code",
   "execution_count": null,
   "id": "20ba4eb5",
   "metadata": {},
   "outputs": [],
   "source": [
    "df.tail()"
   ]
  },
  {
   "cell_type": "code",
   "execution_count": null,
   "id": "99f007be",
   "metadata": {},
   "outputs": [],
   "source": [
    "#Printing summary\n",
    "df.describe()"
   ]
  },
  {
   "cell_type": "code",
   "execution_count": null,
   "id": "acd2ac07",
   "metadata": {},
   "outputs": [],
   "source": [
    "df.info() #complete information about data set"
   ]
  },
  {
   "cell_type": "code",
   "execution_count": null,
   "id": "dff77107",
   "metadata": {},
   "outputs": [],
   "source": [
    "print(df.isnull())"
   ]
  },
  {
   "cell_type": "code",
   "execution_count": null,
   "id": "2a0cfa31",
   "metadata": {},
   "outputs": [],
   "source": [
    "sns.distplot(df['Temparature'], hist=True, kde=True,bins=10, color='red',hist_kws={'edgecolor':'black'})\n",
    "        \n",
    "#Add labels\n",
    "plt.title('Distplot for Temperature')\n",
    "plt.xlabel('Temperature')\n",
    "plt.ylabel('Count')"
   ]
  },
  {
   "cell_type": "code",
   "execution_count": null,
   "id": "7312a82f",
   "metadata": {},
   "outputs": [],
   "source": [
    "sns.histplot(df['Moisture'],kde='True',bins =10, stat='density', color ='pink')\n"
   ]
  },
  {
   "cell_type": "code",
   "execution_count": null,
   "id": "bfe07b5e",
   "metadata": {},
   "outputs": [],
   "source": [
    "sns.histplot(df['Nitrogen'],kde=True,bins=10, color='maroon', edgecolor='black')\n",
    "        \n",
    "#Add labels\n",
    "plt.title('Nitrogen count')\n",
    "plt.xlabel('Nitrogen')\n",
    "\n",
    "plt.ylabel('Count')"
   ]
  },
  {
   "cell_type": "code",
   "execution_count": null,
   "id": "122c5f4e",
   "metadata": {},
   "outputs": [],
   "source": [
    "sns.histplot(df['Phosphorous'],kde=True,bins=10, color='maroon', edgecolor='black')\n",
    "        \n",
    "#Add labels\n",
    "plt.title('Phosphorous count')\n",
    "plt.xlabel('Phosphorous')\n",
    "\n",
    "plt.ylabel('Count')"
   ]
  },
  {
   "cell_type": "code",
   "execution_count": null,
   "id": "aa6a9ab8",
   "metadata": {},
   "outputs": [],
   "source": [
    "sns.histplot(df['Humidity'],kde=True,bins=10, color='maroon', edgecolor='black')\n",
    "        \n",
    "#Add labels\n",
    "plt.title('Humidity count')\n",
    "plt.xlabel('Humidity')\n",
    "\n",
    "plt.ylabel('Count')"
   ]
  },
  {
   "cell_type": "code",
   "execution_count": null,
   "id": "5be3e0b1",
   "metadata": {},
   "outputs": [],
   "source": [
    "numeric_columns = df.select_dtypes(include=['float64', 'int64'])\n",
    "for column in numeric_columns.columns:\n",
    "    plt.hist(numeric_columns[column], bins=10, alpha=0.5, label=column)\n",
    "\n",
    "plt.xlabel('Value')\n",
    "plt.ylabel('Frequency')\n",
    "plt.title('Histogram of Numeric Columns')\n",
    "plt.legend()\n",
    "plt.show()\n"
   ]
  },
  {
   "cell_type": "code",
   "execution_count": null,
   "id": "ddb80c97",
   "metadata": {},
   "outputs": [],
   "source": [
    "#box plot\n",
    "sns.boxplot(x='Temparature',data=df)\n",
    "plt.xlabel('TCount')\n",
    "plt.ylabel('Temperature')\n",
    "plt.title('Boxplot of Temperature')"
   ]
  },
  {
   "cell_type": "code",
   "execution_count": null,
   "id": "49dc35ba",
   "metadata": {},
   "outputs": [],
   "source": [
    "sns.boxplot(x='Moisture',data=df)\n",
    "plt.xlabel('MCount')\n",
    "plt.ylabel('Moisture')\n",
    "plt.title('Boxplot of Moisture')"
   ]
  },
  {
   "cell_type": "code",
   "execution_count": null,
   "id": "bc8f9c77",
   "metadata": {},
   "outputs": [],
   "source": [
    "sns.boxplot(x='Nitrogen',data=df)\n",
    "plt.xlabel('NCount')\n",
    "plt.ylabel('Nitrogen')\n",
    "plt.title('Boxplot of Nitrogen')\n"
   ]
  },
  {
   "cell_type": "code",
   "execution_count": null,
   "id": "0268504e",
   "metadata": {},
   "outputs": [],
   "source": [
    "sns.boxplot(x='Potassium',data=df)\n",
    "plt.xlabel('PCount')\n",
    "plt.ylabel('Potassium')\n",
    "plt.title('Boxplot of Potassium')"
   ]
  },
  {
   "cell_type": "code",
   "execution_count": null,
   "id": "64bd9394",
   "metadata": {},
   "outputs": [],
   "source": [
    "sns.boxplot(x='Phosphorous',data=df)\n",
    "plt.xlabel('KCount')\n",
    "plt.ylabel('Phosphorous')\n",
    "plt.title('Boxplot of Phosphorous')"
   ]
  },
  {
   "cell_type": "code",
   "execution_count": null,
   "id": "92d35088",
   "metadata": {},
   "outputs": [],
   "source": [
    "numeric_columns = df.select_dtypes(include=['float64', 'int64'])\n",
    "# Create a heatmap of correlations\n",
    "sns.heatmap(numeric_columns.corr(), annot=True, cmap='RdBu', linewidths=0.5)\n",
    "plt.title('Correlation Heatmap')\n",
    "plt.show()"
   ]
  }
 ],
 "metadata": {
  "kernelspec": {
   "display_name": "Python 3 (ipykernel)",
   "language": "python",
   "name": "python3"
  },
  "language_info": {
   "codemirror_mode": {
    "name": "ipython",
    "version": 3
   },
   "file_extension": ".py",
   "mimetype": "text/x-python",
   "name": "python",
   "nbconvert_exporter": "python",
   "pygments_lexer": "ipython3",
   "version": "3.13.0"
  }
 },
 "nbformat": 4,
 "nbformat_minor": 5
}
